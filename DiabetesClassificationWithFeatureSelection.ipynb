{
  "nbformat": 4,
  "nbformat_minor": 0,
  "metadata": {
    "colab": {
      "provenance": [],
      "authorship_tag": "ABX9TyM+iUdb7QG3xlWsCCrDwPWB",
      "include_colab_link": true
    },
    "kernelspec": {
      "name": "python3",
      "display_name": "Python 3"
    },
    "language_info": {
      "name": "python"
    }
  },
  "cells": [
    {
      "cell_type": "markdown",
      "metadata": {
        "id": "view-in-github",
        "colab_type": "text"
      },
      "source": [
        "<a href=\"https://colab.research.google.com/github/vinnaseti/diabetes-classification-with-feature-selection/blob/main/DiabetesClassificationWithFeatureSelection.ipynb\" target=\"_parent\"><img src=\"https://colab.research.google.com/assets/colab-badge.svg\" alt=\"Open In Colab\"/></a>"
      ]
    },
    {
      "cell_type": "markdown",
      "source": [
        "# **About Data**\n"
      ],
      "metadata": {
        "id": "XitSzPDBKnvJ"
      }
    },
    {
      "cell_type": "markdown",
      "source": [
        "Dataset used in this project is **Diabetes Dataset**. This dataset is originally from the National Institute of Diabetes and Digestive and Kidney Diseases. \n",
        "\n",
        "### **Content**\n",
        "All patients in this data are females at least 21 years old of Pima Indian Heritage. The dataset features are:\n",
        "Pregnancies: Number of times pregnant\n",
        "\n",
        "*   Glucose: Plasma glucose concentration a 2 hours in an oral glucose tolerance test\n",
        "*   BloodPressure: Diastolic blood pressure (mm Hg)\n",
        "*   SkinThickness: Triceps skin fold thickness (mm)\n",
        "*   Insulin: 2-Hour serum insulin (mu U/ml)\n",
        "*   BMI: Body mass index (weight in kg/(height in m)^2)\n",
        "*   DiabetesPedigreeFunction: Diabetes pedigree function\n",
        "*   Age: Age (years)\n",
        "*   Outcome: Class variable (0 or 1)"
      ],
      "metadata": {
        "id": "5vChevI9NvCo"
      }
    },
    {
      "cell_type": "markdown",
      "source": [
        "# **Python Libraries**"
      ],
      "metadata": {
        "id": "BNC17rMsQ1Nc"
      }
    },
    {
      "cell_type": "code",
      "source": [
        "!pip install mlxtend #Library for Forward Selection"
      ],
      "metadata": {
        "colab": {
          "base_uri": "https://localhost:8080/"
        },
        "id": "Uy30lSwKV7wK",
        "outputId": "e3bc79a1-ce6a-468a-ee8e-310c7bf8d554"
      },
      "execution_count": null,
      "outputs": [
        {
          "output_type": "stream",
          "name": "stdout",
          "text": [
            "Looking in indexes: https://pypi.org/simple, https://us-python.pkg.dev/colab-wheels/public/simple/\n",
            "Requirement already satisfied: mlxtend in /usr/local/lib/python3.8/dist-packages (0.21.0)\n",
            "Requirement already satisfied: joblib>=0.13.2 in /usr/local/lib/python3.8/dist-packages (from mlxtend) (1.2.0)\n",
            "Requirement already satisfied: scikit-learn>=1.0.2 in /usr/local/lib/python3.8/dist-packages (from mlxtend) (1.0.2)\n",
            "Requirement already satisfied: pandas>=0.24.2 in /usr/local/lib/python3.8/dist-packages (from mlxtend) (1.3.5)\n",
            "Requirement already satisfied: scipy>=1.2.1 in /usr/local/lib/python3.8/dist-packages (from mlxtend) (1.7.3)\n",
            "Requirement already satisfied: setuptools in /usr/local/lib/python3.8/dist-packages (from mlxtend) (57.4.0)\n",
            "Requirement already satisfied: numpy>=1.16.2 in /usr/local/lib/python3.8/dist-packages (from mlxtend) (1.21.6)\n",
            "Requirement already satisfied: matplotlib>=3.0.0 in /usr/local/lib/python3.8/dist-packages (from mlxtend) (3.2.2)\n",
            "Requirement already satisfied: pyparsing!=2.0.4,!=2.1.2,!=2.1.6,>=2.0.1 in /usr/local/lib/python3.8/dist-packages (from matplotlib>=3.0.0->mlxtend) (3.0.9)\n",
            "Requirement already satisfied: cycler>=0.10 in /usr/local/lib/python3.8/dist-packages (from matplotlib>=3.0.0->mlxtend) (0.11.0)\n",
            "Requirement already satisfied: python-dateutil>=2.1 in /usr/local/lib/python3.8/dist-packages (from matplotlib>=3.0.0->mlxtend) (2.8.2)\n",
            "Requirement already satisfied: kiwisolver>=1.0.1 in /usr/local/lib/python3.8/dist-packages (from matplotlib>=3.0.0->mlxtend) (1.4.4)\n",
            "Requirement already satisfied: pytz>=2017.3 in /usr/local/lib/python3.8/dist-packages (from pandas>=0.24.2->mlxtend) (2022.6)\n",
            "Requirement already satisfied: six>=1.5 in /usr/local/lib/python3.8/dist-packages (from python-dateutil>=2.1->matplotlib>=3.0.0->mlxtend) (1.15.0)\n",
            "Requirement already satisfied: threadpoolctl>=2.0.0 in /usr/local/lib/python3.8/dist-packages (from scikit-learn>=1.0.2->mlxtend) (3.1.0)\n"
          ]
        }
      ]
    },
    {
      "cell_type": "code",
      "execution_count": null,
      "metadata": {
        "id": "TSmey5Ohdumg"
      },
      "outputs": [],
      "source": [
        "import pandas as pd \n",
        "\n",
        "import statsmodels.api as sm\n",
        "from mlxtend.feature_selection import SequentialFeatureSelector as SFS\n",
        "from sklearn.linear_model import LinearRegression\n",
        "\n",
        "from sklearn.preprocessing import StandardScaler\n",
        "from sklearn.model_selection import train_test_split\n",
        "from sklearn.svm import SVC\n",
        "\n",
        "from sklearn.metrics import classification_report\n",
        "from sklearn.metrics import precision_score\n",
        "\n",
        "from mlxtend.plotting import plot_sequential_feature_selection as plot_sfs\n",
        "import matplotlib.pyplot as plt"
      ]
    },
    {
      "cell_type": "markdown",
      "source": [
        "# **Read and Analyse Data**"
      ],
      "metadata": {
        "id": "4p0xidq6RPg2"
      }
    },
    {
      "cell_type": "code",
      "source": [
        "path = '/content/diabetes.csv'\n",
        "df = pd.read_csv(path) "
      ],
      "metadata": {
        "id": "jH624rKFd_Il"
      },
      "execution_count": null,
      "outputs": []
    },
    {
      "cell_type": "code",
      "source": [
        "# Display Dataframe\n",
        "df"
      ],
      "metadata": {
        "colab": {
          "base_uri": "https://localhost:8080/",
          "height": 424
        },
        "id": "p5uMVHTLf9pk",
        "outputId": "d6e5edab-1c4b-4f2c-c9a7-643a132c3278"
      },
      "execution_count": null,
      "outputs": [
        {
          "output_type": "execute_result",
          "data": {
            "text/plain": [
              "     Pregnancies  Glucose  BloodPressure  SkinThickness  Insulin   BMI  \\\n",
              "0              6      148             72             35        0  33.6   \n",
              "1              1       85             66             29        0  26.6   \n",
              "2              8      183             64              0        0  23.3   \n",
              "3              1       89             66             23       94  28.1   \n",
              "4              0      137             40             35      168  43.1   \n",
              "..           ...      ...            ...            ...      ...   ...   \n",
              "763           10      101             76             48      180  32.9   \n",
              "764            2      122             70             27        0  36.8   \n",
              "765            5      121             72             23      112  26.2   \n",
              "766            1      126             60              0        0  30.1   \n",
              "767            1       93             70             31        0  30.4   \n",
              "\n",
              "     DiabetesPedigreeFunction  Age  Outcome  \n",
              "0                       0.627   50        1  \n",
              "1                       0.351   31        0  \n",
              "2                       0.672   32        1  \n",
              "3                       0.167   21        0  \n",
              "4                       2.288   33        1  \n",
              "..                        ...  ...      ...  \n",
              "763                     0.171   63        0  \n",
              "764                     0.340   27        0  \n",
              "765                     0.245   30        0  \n",
              "766                     0.349   47        1  \n",
              "767                     0.315   23        0  \n",
              "\n",
              "[768 rows x 9 columns]"
            ],
            "text/html": [
              "\n",
              "  <div id=\"df-b437cc0b-1f8f-4058-b2c9-89ff9d138b8c\">\n",
              "    <div class=\"colab-df-container\">\n",
              "      <div>\n",
              "<style scoped>\n",
              "    .dataframe tbody tr th:only-of-type {\n",
              "        vertical-align: middle;\n",
              "    }\n",
              "\n",
              "    .dataframe tbody tr th {\n",
              "        vertical-align: top;\n",
              "    }\n",
              "\n",
              "    .dataframe thead th {\n",
              "        text-align: right;\n",
              "    }\n",
              "</style>\n",
              "<table border=\"1\" class=\"dataframe\">\n",
              "  <thead>\n",
              "    <tr style=\"text-align: right;\">\n",
              "      <th></th>\n",
              "      <th>Pregnancies</th>\n",
              "      <th>Glucose</th>\n",
              "      <th>BloodPressure</th>\n",
              "      <th>SkinThickness</th>\n",
              "      <th>Insulin</th>\n",
              "      <th>BMI</th>\n",
              "      <th>DiabetesPedigreeFunction</th>\n",
              "      <th>Age</th>\n",
              "      <th>Outcome</th>\n",
              "    </tr>\n",
              "  </thead>\n",
              "  <tbody>\n",
              "    <tr>\n",
              "      <th>0</th>\n",
              "      <td>6</td>\n",
              "      <td>148</td>\n",
              "      <td>72</td>\n",
              "      <td>35</td>\n",
              "      <td>0</td>\n",
              "      <td>33.6</td>\n",
              "      <td>0.627</td>\n",
              "      <td>50</td>\n",
              "      <td>1</td>\n",
              "    </tr>\n",
              "    <tr>\n",
              "      <th>1</th>\n",
              "      <td>1</td>\n",
              "      <td>85</td>\n",
              "      <td>66</td>\n",
              "      <td>29</td>\n",
              "      <td>0</td>\n",
              "      <td>26.6</td>\n",
              "      <td>0.351</td>\n",
              "      <td>31</td>\n",
              "      <td>0</td>\n",
              "    </tr>\n",
              "    <tr>\n",
              "      <th>2</th>\n",
              "      <td>8</td>\n",
              "      <td>183</td>\n",
              "      <td>64</td>\n",
              "      <td>0</td>\n",
              "      <td>0</td>\n",
              "      <td>23.3</td>\n",
              "      <td>0.672</td>\n",
              "      <td>32</td>\n",
              "      <td>1</td>\n",
              "    </tr>\n",
              "    <tr>\n",
              "      <th>3</th>\n",
              "      <td>1</td>\n",
              "      <td>89</td>\n",
              "      <td>66</td>\n",
              "      <td>23</td>\n",
              "      <td>94</td>\n",
              "      <td>28.1</td>\n",
              "      <td>0.167</td>\n",
              "      <td>21</td>\n",
              "      <td>0</td>\n",
              "    </tr>\n",
              "    <tr>\n",
              "      <th>4</th>\n",
              "      <td>0</td>\n",
              "      <td>137</td>\n",
              "      <td>40</td>\n",
              "      <td>35</td>\n",
              "      <td>168</td>\n",
              "      <td>43.1</td>\n",
              "      <td>2.288</td>\n",
              "      <td>33</td>\n",
              "      <td>1</td>\n",
              "    </tr>\n",
              "    <tr>\n",
              "      <th>...</th>\n",
              "      <td>...</td>\n",
              "      <td>...</td>\n",
              "      <td>...</td>\n",
              "      <td>...</td>\n",
              "      <td>...</td>\n",
              "      <td>...</td>\n",
              "      <td>...</td>\n",
              "      <td>...</td>\n",
              "      <td>...</td>\n",
              "    </tr>\n",
              "    <tr>\n",
              "      <th>763</th>\n",
              "      <td>10</td>\n",
              "      <td>101</td>\n",
              "      <td>76</td>\n",
              "      <td>48</td>\n",
              "      <td>180</td>\n",
              "      <td>32.9</td>\n",
              "      <td>0.171</td>\n",
              "      <td>63</td>\n",
              "      <td>0</td>\n",
              "    </tr>\n",
              "    <tr>\n",
              "      <th>764</th>\n",
              "      <td>2</td>\n",
              "      <td>122</td>\n",
              "      <td>70</td>\n",
              "      <td>27</td>\n",
              "      <td>0</td>\n",
              "      <td>36.8</td>\n",
              "      <td>0.340</td>\n",
              "      <td>27</td>\n",
              "      <td>0</td>\n",
              "    </tr>\n",
              "    <tr>\n",
              "      <th>765</th>\n",
              "      <td>5</td>\n",
              "      <td>121</td>\n",
              "      <td>72</td>\n",
              "      <td>23</td>\n",
              "      <td>112</td>\n",
              "      <td>26.2</td>\n",
              "      <td>0.245</td>\n",
              "      <td>30</td>\n",
              "      <td>0</td>\n",
              "    </tr>\n",
              "    <tr>\n",
              "      <th>766</th>\n",
              "      <td>1</td>\n",
              "      <td>126</td>\n",
              "      <td>60</td>\n",
              "      <td>0</td>\n",
              "      <td>0</td>\n",
              "      <td>30.1</td>\n",
              "      <td>0.349</td>\n",
              "      <td>47</td>\n",
              "      <td>1</td>\n",
              "    </tr>\n",
              "    <tr>\n",
              "      <th>767</th>\n",
              "      <td>1</td>\n",
              "      <td>93</td>\n",
              "      <td>70</td>\n",
              "      <td>31</td>\n",
              "      <td>0</td>\n",
              "      <td>30.4</td>\n",
              "      <td>0.315</td>\n",
              "      <td>23</td>\n",
              "      <td>0</td>\n",
              "    </tr>\n",
              "  </tbody>\n",
              "</table>\n",
              "<p>768 rows × 9 columns</p>\n",
              "</div>\n",
              "      <button class=\"colab-df-convert\" onclick=\"convertToInteractive('df-b437cc0b-1f8f-4058-b2c9-89ff9d138b8c')\"\n",
              "              title=\"Convert this dataframe to an interactive table.\"\n",
              "              style=\"display:none;\">\n",
              "        \n",
              "  <svg xmlns=\"http://www.w3.org/2000/svg\" height=\"24px\"viewBox=\"0 0 24 24\"\n",
              "       width=\"24px\">\n",
              "    <path d=\"M0 0h24v24H0V0z\" fill=\"none\"/>\n",
              "    <path d=\"M18.56 5.44l.94 2.06.94-2.06 2.06-.94-2.06-.94-.94-2.06-.94 2.06-2.06.94zm-11 1L8.5 8.5l.94-2.06 2.06-.94-2.06-.94L8.5 2.5l-.94 2.06-2.06.94zm10 10l.94 2.06.94-2.06 2.06-.94-2.06-.94-.94-2.06-.94 2.06-2.06.94z\"/><path d=\"M17.41 7.96l-1.37-1.37c-.4-.4-.92-.59-1.43-.59-.52 0-1.04.2-1.43.59L10.3 9.45l-7.72 7.72c-.78.78-.78 2.05 0 2.83L4 21.41c.39.39.9.59 1.41.59.51 0 1.02-.2 1.41-.59l7.78-7.78 2.81-2.81c.8-.78.8-2.07 0-2.86zM5.41 20L4 18.59l7.72-7.72 1.47 1.35L5.41 20z\"/>\n",
              "  </svg>\n",
              "      </button>\n",
              "      \n",
              "  <style>\n",
              "    .colab-df-container {\n",
              "      display:flex;\n",
              "      flex-wrap:wrap;\n",
              "      gap: 12px;\n",
              "    }\n",
              "\n",
              "    .colab-df-convert {\n",
              "      background-color: #E8F0FE;\n",
              "      border: none;\n",
              "      border-radius: 50%;\n",
              "      cursor: pointer;\n",
              "      display: none;\n",
              "      fill: #1967D2;\n",
              "      height: 32px;\n",
              "      padding: 0 0 0 0;\n",
              "      width: 32px;\n",
              "    }\n",
              "\n",
              "    .colab-df-convert:hover {\n",
              "      background-color: #E2EBFA;\n",
              "      box-shadow: 0px 1px 2px rgba(60, 64, 67, 0.3), 0px 1px 3px 1px rgba(60, 64, 67, 0.15);\n",
              "      fill: #174EA6;\n",
              "    }\n",
              "\n",
              "    [theme=dark] .colab-df-convert {\n",
              "      background-color: #3B4455;\n",
              "      fill: #D2E3FC;\n",
              "    }\n",
              "\n",
              "    [theme=dark] .colab-df-convert:hover {\n",
              "      background-color: #434B5C;\n",
              "      box-shadow: 0px 1px 3px 1px rgba(0, 0, 0, 0.15);\n",
              "      filter: drop-shadow(0px 1px 2px rgba(0, 0, 0, 0.3));\n",
              "      fill: #FFFFFF;\n",
              "    }\n",
              "  </style>\n",
              "\n",
              "      <script>\n",
              "        const buttonEl =\n",
              "          document.querySelector('#df-b437cc0b-1f8f-4058-b2c9-89ff9d138b8c button.colab-df-convert');\n",
              "        buttonEl.style.display =\n",
              "          google.colab.kernel.accessAllowed ? 'block' : 'none';\n",
              "\n",
              "        async function convertToInteractive(key) {\n",
              "          const element = document.querySelector('#df-b437cc0b-1f8f-4058-b2c9-89ff9d138b8c');\n",
              "          const dataTable =\n",
              "            await google.colab.kernel.invokeFunction('convertToInteractive',\n",
              "                                                     [key], {});\n",
              "          if (!dataTable) return;\n",
              "\n",
              "          const docLinkHtml = 'Like what you see? Visit the ' +\n",
              "            '<a target=\"_blank\" href=https://colab.research.google.com/notebooks/data_table.ipynb>data table notebook</a>'\n",
              "            + ' to learn more about interactive tables.';\n",
              "          element.innerHTML = '';\n",
              "          dataTable['output_type'] = 'display_data';\n",
              "          await google.colab.output.renderOutput(dataTable, element);\n",
              "          const docLink = document.createElement('div');\n",
              "          docLink.innerHTML = docLinkHtml;\n",
              "          element.appendChild(docLink);\n",
              "        }\n",
              "      </script>\n",
              "    </div>\n",
              "  </div>\n",
              "  "
            ]
          },
          "metadata": {},
          "execution_count": 4
        }
      ]
    },
    {
      "cell_type": "markdown",
      "source": [
        "The **Outcome** feature is our class label or target variable. Therefore, we separate the dataset from the label class"
      ],
      "metadata": {
        "id": "sUnI24WJR-BS"
      }
    },
    {
      "cell_type": "code",
      "source": [
        "# Split dataframe into data and labels (X and y)\n",
        "X = df.drop(columns=['Outcome'])  # feature matrix\n",
        "y = df['Outcome']                 # target variable"
      ],
      "metadata": {
        "id": "Juwvs_bphCf4"
      },
      "execution_count": null,
      "outputs": []
    },
    {
      "cell_type": "markdown",
      "source": [
        "# **Forward Selections**"
      ],
      "metadata": {
        "id": "fSu1BxbRvUT2"
      }
    },
    {
      "cell_type": "code",
      "source": [
        "# Calling the Linear Regression Model\n",
        "lreg = LinearRegression()\n",
        "sfs1 = SFS(lreg, k_features=5, forward=True, verbose=2, scoring='neg_mean_squared_error') # Define the feature selection model"
      ],
      "metadata": {
        "id": "RS45Xt4ev0QB"
      },
      "execution_count": null,
      "outputs": []
    },
    {
      "cell_type": "code",
      "source": [
        "# Fit the feature selection model\n",
        "sfs1 = sfs1.fit(X, y) "
      ],
      "metadata": {
        "colab": {
          "base_uri": "https://localhost:8080/"
        },
        "id": "HGntb1BExocM",
        "outputId": "0c839241-1caa-4838-de16-aecfde35428a"
      },
      "execution_count": null,
      "outputs": [
        {
          "output_type": "stream",
          "name": "stderr",
          "text": [
            "[Parallel(n_jobs=1)]: Using backend SequentialBackend with 1 concurrent workers.\n",
            "[Parallel(n_jobs=1)]: Done   1 out of   1 | elapsed:    0.0s remaining:    0.0s\n",
            "[Parallel(n_jobs=1)]: Done   8 out of   8 | elapsed:    0.1s finished\n",
            "\n",
            "[2022-12-08 09:27:59] Features: 1/5 -- score: -0.1788003955821145[Parallel(n_jobs=1)]: Using backend SequentialBackend with 1 concurrent workers.\n",
            "[Parallel(n_jobs=1)]: Done   1 out of   1 | elapsed:    0.0s remaining:    0.0s\n",
            "[Parallel(n_jobs=1)]: Done   7 out of   7 | elapsed:    0.1s finished\n",
            "\n",
            "[2022-12-08 09:27:59] Features: 2/5 -- score: -0.17059566071402976[Parallel(n_jobs=1)]: Using backend SequentialBackend with 1 concurrent workers.\n",
            "[Parallel(n_jobs=1)]: Done   1 out of   1 | elapsed:    0.0s remaining:    0.0s\n",
            "[Parallel(n_jobs=1)]: Done   6 out of   6 | elapsed:    0.0s finished\n",
            "\n",
            "[2022-12-08 09:27:59] Features: 3/5 -- score: -0.16457097551561803[Parallel(n_jobs=1)]: Using backend SequentialBackend with 1 concurrent workers.\n",
            "[Parallel(n_jobs=1)]: Done   1 out of   1 | elapsed:    0.0s remaining:    0.0s\n",
            "[Parallel(n_jobs=1)]: Done   5 out of   5 | elapsed:    0.0s finished\n",
            "\n",
            "[2022-12-08 09:27:59] Features: 4/5 -- score: -0.16284940564360872[Parallel(n_jobs=1)]: Using backend SequentialBackend with 1 concurrent workers.\n",
            "[Parallel(n_jobs=1)]: Done   1 out of   1 | elapsed:    0.0s remaining:    0.0s\n",
            "[Parallel(n_jobs=1)]: Done   4 out of   4 | elapsed:    0.0s finished\n",
            "\n",
            "[2022-12-08 09:27:59] Features: 5/5 -- score: -0.16175839539908848"
          ]
        }
      ]
    },
    {
      "cell_type": "code",
      "source": [
        "# Displaying the best features\n",
        "features = list(sfs1.k_feature_names_)\n",
        "print(features)"
      ],
      "metadata": {
        "colab": {
          "base_uri": "https://localhost:8080/"
        },
        "id": "dj7Ao2G5xuSV",
        "outputId": "d1e26c02-e542-4114-f787-566586818d83"
      },
      "execution_count": null,
      "outputs": [
        {
          "output_type": "stream",
          "name": "stdout",
          "text": [
            "['Pregnancies', 'Glucose', 'BloodPressure', 'BMI', 'DiabetesPedigreeFunction']\n"
          ]
        }
      ]
    },
    {
      "cell_type": "code",
      "source": [
        "fig1 = plot_sfs(sfs1.get_metric_dict(), kind='std_dev')\n",
        "plt.title('Sequential Forward Selection (w. StdErr)')\n",
        "plt.grid()\n",
        "plt.show()"
      ],
      "metadata": {
        "colab": {
          "base_uri": "https://localhost:8080/",
          "height": 295
        },
        "id": "D3zDscD629R7",
        "outputId": "bfce68f9-3356-4368-dc43-5a39d6ca393f"
      },
      "execution_count": null,
      "outputs": [
        {
          "output_type": "display_data",
          "data": {
            "text/plain": [
              "<Figure size 432x288 with 1 Axes>"
            ],
            "image/png": "[encoded data removed]"
          },
          "metadata": {
            "needs_background": "light"
          }
        }
      ]
    },
    {
      "cell_type": "code",
      "source": [
        "# Build the second feature selector\n",
        "sfs2 = SFS(lreg, k_features=3, forward=True, verbose=2, scoring='neg_mean_squared_error') # Define the feature selection model\n",
        "sfs2 = sfs2.fit(X, y) "
      ],
      "metadata": {
        "colab": {
          "base_uri": "https://localhost:8080/"
        },
        "id": "r8Z-548VCJZ7",
        "outputId": "07150b79-61c4-4d4e-bbcc-43819a68365d"
      },
      "execution_count": null,
      "outputs": [
        {
          "output_type": "stream",
          "name": "stderr",
          "text": [
            "[Parallel(n_jobs=1)]: Using backend SequentialBackend with 1 concurrent workers.\n",
            "[Parallel(n_jobs=1)]: Done   1 out of   1 | elapsed:    0.0s remaining:    0.0s\n",
            "[Parallel(n_jobs=1)]: Done   8 out of   8 | elapsed:    0.1s finished\n",
            "\n",
            "[2022-12-08 09:27:59] Features: 1/3 -- score: -0.1788003955821145[Parallel(n_jobs=1)]: Using backend SequentialBackend with 1 concurrent workers.\n",
            "[Parallel(n_jobs=1)]: Done   1 out of   1 | elapsed:    0.0s remaining:    0.0s\n",
            "[Parallel(n_jobs=1)]: Done   7 out of   7 | elapsed:    0.1s finished\n",
            "\n",
            "[2022-12-08 09:27:59] Features: 2/3 -- score: -0.17059566071402976[Parallel(n_jobs=1)]: Using backend SequentialBackend with 1 concurrent workers.\n",
            "[Parallel(n_jobs=1)]: Done   1 out of   1 | elapsed:    0.0s remaining:    0.0s\n",
            "[Parallel(n_jobs=1)]: Done   6 out of   6 | elapsed:    0.0s finished\n",
            "\n",
            "[2022-12-08 09:27:59] Features: 3/3 -- score: -0.16457097551561803"
          ]
        }
      ]
    },
    {
      "cell_type": "code",
      "source": [
        "# Displaying the best features\n",
        "features2 = list(sfs2.k_feature_names_)\n",
        "print(features2)"
      ],
      "metadata": {
        "colab": {
          "base_uri": "https://localhost:8080/"
        },
        "id": "3jSIFXrbCRYQ",
        "outputId": "c62e089a-2b41-4964-e308-2ed636f7d1c6"
      },
      "execution_count": null,
      "outputs": [
        {
          "output_type": "stream",
          "name": "stdout",
          "text": [
            "['Pregnancies', 'Glucose', 'BMI']\n"
          ]
        }
      ]
    },
    {
      "cell_type": "markdown",
      "source": [
        "# **Classification Modelling**"
      ],
      "metadata": {
        "id": "75lZN0gyyrBE"
      }
    },
    {
      "cell_type": "code",
      "source": [
        "# Split the code into training and testing data\n",
        "X_train, X_test, y_train, y_test = train_test_split(X, y, test_size=0.1, random_state=123)"
      ],
      "metadata": {
        "id": "qJuepy1rY5wu"
      },
      "execution_count": null,
      "outputs": []
    },
    {
      "cell_type": "markdown",
      "source": [
        "Dataset is splitted into 90% Training Data and 10% Testing Data"
      ],
      "metadata": {
        "id": "-Pyv6zDGZDWh"
      }
    },
    {
      "cell_type": "markdown",
      "source": [
        "## **Without Feature Selection**"
      ],
      "metadata": {
        "id": "_qSw-Mz4yxEA"
      }
    },
    {
      "cell_type": "code",
      "source": [
        "X_wfs = X_train\n",
        "y_wfs = y_train\n",
        "X_wfs_test = X_test"
      ],
      "metadata": {
        "id": "pSQ5-HRsze5Z"
      },
      "execution_count": null,
      "outputs": []
    },
    {
      "cell_type": "code",
      "source": [
        "# Data Scaling\n",
        "scaler = StandardScaler()\n",
        "scaler.fit(X_wfs)\n",
        "X_wfs = scaler.transform(X_wfs)"
      ],
      "metadata": {
        "id": "Jk2J59q6hu3C"
      },
      "execution_count": null,
      "outputs": []
    },
    {
      "cell_type": "code",
      "source": [
        "# Calling The Support Vector Classifier\n",
        "model = SVC()\n",
        "model.fit(X_wfs, y_wfs)\n",
        "\n",
        "#Scaling test data\n",
        "X_wfs_test = scaler.fit_transform(X_wfs_test)\n",
        "\n",
        "# Model Prediction on test Data\n",
        "y_predict = model.predict(X_wfs_test)\n",
        "print(\"Precision Score : %.2f\" % (precision_score(y_test, y_predict)))\n",
        "\n",
        "# Model Evaluation on test data\n",
        "labelName = ['Normal', 'Diabetes']\n",
        "print(classification_report(y_test, y_predict, target_names=labelName))"
      ],
      "metadata": {
        "colab": {
          "base_uri": "https://localhost:8080/"
        },
        "id": "8aXSH9azyqoy",
        "outputId": "1329a233-6c5c-4053-ed0a-5c4248382c79"
      },
      "execution_count": null,
      "outputs": [
        {
          "output_type": "stream",
          "name": "stdout",
          "text": [
            "Precision Score : 0.82\n",
            "              precision    recall  f1-score   support\n",
            "\n",
            "      Normal       0.78      0.91      0.84        47\n",
            "    Diabetes       0.82      0.60      0.69        30\n",
            "\n",
            "    accuracy                           0.79        77\n",
            "   macro avg       0.80      0.76      0.77        77\n",
            "weighted avg       0.80      0.79      0.78        77\n",
            "\n"
          ]
        }
      ]
    },
    {
      "cell_type": "markdown",
      "source": [
        "## **With Feature Selection**"
      ],
      "metadata": {
        "id": "2muRryeo1cMo"
      }
    },
    {
      "cell_type": "markdown",
      "source": [
        "**For 5 Features**"
      ],
      "metadata": {
        "id": "lQVRQvlHCdJu"
      }
    },
    {
      "cell_type": "code",
      "source": [
        "X_fs = X_train[features]\n",
        "y_fs = y_train\n",
        "X_fs_test = X_test[features]"
      ],
      "metadata": {
        "id": "AAt50hTx1fM3"
      },
      "execution_count": null,
      "outputs": []
    },
    {
      "cell_type": "code",
      "source": [
        "# Data Scaling\n",
        "scaler = StandardScaler()\n",
        "scaler.fit(X_fs)\n",
        "X_fs = scaler.transform(X_fs)"
      ],
      "metadata": {
        "id": "FLp773aV1x0c"
      },
      "execution_count": null,
      "outputs": []
    },
    {
      "cell_type": "code",
      "source": [
        "# Calling The Support Vector Classifier\n",
        "model1 = SVC()\n",
        "model1.fit(X_fs, y_fs)\n",
        "\n",
        "#Scaling test data\n",
        "X_fs_test = scaler.fit_transform(X_fs_test)\n",
        "\n",
        "# Model Prediction on test Data\n",
        "y_predict1 = model1.predict(X_fs_test)\n",
        "print(\"Precision Score : %.2f\" % (precision_score(y_test, y_predict1)))\n",
        "\n",
        "# Model Evaluation on test data\n",
        "labelName = ['Normal', 'Diabetes']\n",
        "print(classification_report(y_test, y_predict1, target_names=labelName))"
      ],
      "metadata": {
        "colab": {
          "base_uri": "https://localhost:8080/"
        },
        "id": "JqBwBsbr12jj",
        "outputId": "1b52ad83-8517-42fd-a8eb-bf98e099f94f"
      },
      "execution_count": null,
      "outputs": [
        {
          "output_type": "stream",
          "name": "stdout",
          "text": [
            "Precision Score : 0.82\n",
            "              precision    recall  f1-score   support\n",
            "\n",
            "      Normal       0.78      0.91      0.84        47\n",
            "    Diabetes       0.82      0.60      0.69        30\n",
            "\n",
            "    accuracy                           0.79        77\n",
            "   macro avg       0.80      0.76      0.77        77\n",
            "weighted avg       0.80      0.79      0.78        77\n",
            "\n"
          ]
        }
      ]
    },
    {
      "cell_type": "markdown",
      "source": [
        "**For 3 Features**"
      ],
      "metadata": {
        "id": "fvY3AO-MCiTJ"
      }
    },
    {
      "cell_type": "code",
      "source": [
        "X_fs2 = X_train[features2]\n",
        "y_fs2 = y_train\n",
        "X_fs2_test = X_test[features2]"
      ],
      "metadata": {
        "id": "phU7s_ZBCh1p"
      },
      "execution_count": null,
      "outputs": []
    },
    {
      "cell_type": "code",
      "source": [
        "# Data Scaling\n",
        "scaler = StandardScaler()\n",
        "scaler.fit(X_fs2)\n",
        "X_fs2 = scaler.transform(X_fs2)"
      ],
      "metadata": {
        "id": "1OIQ6KRXCxro"
      },
      "execution_count": null,
      "outputs": []
    },
    {
      "cell_type": "code",
      "source": [
        "# Calling The Support Vector Classifier\n",
        "model2 = SVC()\n",
        "model2.fit(X_fs2, y_fs2)\n",
        "\n",
        "#Scaling test data\n",
        "X_fs2_test = scaler.fit_transform(X_fs2_test)\n",
        "\n",
        "# Model Prediction on test Data\n",
        "y_predict2 = model2.predict(X_fs2_test)\n",
        "print(\"Precision Score : %.2f\" % (precision_score(y_test, y_predict2)))\n",
        "\n",
        "# Model Evaluation on test data\n",
        "labelName = ['Normal', 'Diabetes']\n",
        "print(classification_report(y_test, y_predict2, target_names=labelName))"
      ],
      "metadata": {
        "colab": {
          "base_uri": "https://localhost:8080/"
        },
        "id": "l6h3p2cFC0u_",
        "outputId": "db2dd483-8f45-4418-a6a7-ea2a4b37837d"
      },
      "execution_count": null,
      "outputs": [
        {
          "output_type": "stream",
          "name": "stdout",
          "text": [
            "Precision Score : 0.79\n",
            "              precision    recall  f1-score   support\n",
            "\n",
            "      Normal       0.74      0.91      0.82        47\n",
            "    Diabetes       0.79      0.50      0.61        30\n",
            "\n",
            "    accuracy                           0.75        77\n",
            "   macro avg       0.77      0.71      0.72        77\n",
            "weighted avg       0.76      0.75      0.74        77\n",
            "\n"
          ]
        }
      ]
    }
  ]
}